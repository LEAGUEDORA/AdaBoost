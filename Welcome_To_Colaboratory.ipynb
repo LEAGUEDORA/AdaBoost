{
  "nbformat": 4,
  "nbformat_minor": 0,
  "metadata": {
    "colab": {
      "name": "Welcome To Colaboratory",
      "provenance": [],
      "collapsed_sections": [],
      "include_colab_link": true
    },
    "kernelspec": {
      "display_name": "Python 3",
      "name": "python3"
    }
  },
  "cells": [
    {
      "cell_type": "markdown",
      "metadata": {
        "id": "view-in-github",
        "colab_type": "text"
      },
      "source": [
        "<a href=\"https://colab.research.google.com/github/Sandeepdora/AdaBoost/blob/master/Welcome_To_Colaboratory.ipynb\" target=\"_parent\"><img src=\"https://colab.research.google.com/assets/colab-badge.svg\" alt=\"Open In Colab\"/></a>"
      ]
    },
    {
      "cell_type": "code",
      "metadata": {
        "id": "KRbHAc4z3nXq",
        "colab_type": "code",
        "colab": {}
      },
      "source": [
        "#importing the Modules requires\n",
        "import numpy as nn\n",
        "import pandas as pp\n",
        "from sklearn import tree as tt\n",
        "from sklearn.model_selection import train_test_split as tts\n",
        "from sklearn.metrics import r2_score as r2\n",
        "from sklearn.metrics import mean_squared_error as mse\n",
        "from sklearn.ensemble import AdaBoostRegressor as abc\n",
        "from sklearn.ensemble import RandomForestRegressor as rfr"
      ],
      "execution_count": 0,
      "outputs": []
    },
    {
      "cell_type": "code",
      "metadata": {
        "id": "ekE0NEY43rig",
        "colab_type": "code",
        "colab": {
          "base_uri": "https://localhost:8080/",
          "height": 195
        },
        "outputId": "baf80677-e526-4999-d42b-3909249e6a35"
      },
      "source": [
        "gg = pp.read_csv('diabetes.csv')  #reading the data set\n",
        "gg.head()"
      ],
      "execution_count": 21,
      "outputs": [
        {
          "output_type": "execute_result",
          "data": {
            "text/html": [
              "<div>\n",
              "<style scoped>\n",
              "    .dataframe tbody tr th:only-of-type {\n",
              "        vertical-align: middle;\n",
              "    }\n",
              "\n",
              "    .dataframe tbody tr th {\n",
              "        vertical-align: top;\n",
              "    }\n",
              "\n",
              "    .dataframe thead th {\n",
              "        text-align: right;\n",
              "    }\n",
              "</style>\n",
              "<table border=\"1\" class=\"dataframe\">\n",
              "  <thead>\n",
              "    <tr style=\"text-align: right;\">\n",
              "      <th></th>\n",
              "      <th>Pregnancies</th>\n",
              "      <th>Glucose</th>\n",
              "      <th>BloodPressure</th>\n",
              "      <th>SkinThickness</th>\n",
              "      <th>Insulin</th>\n",
              "      <th>BMI</th>\n",
              "      <th>DiabetesPedigreeFunction</th>\n",
              "      <th>Age</th>\n",
              "      <th>Outcome</th>\n",
              "    </tr>\n",
              "  </thead>\n",
              "  <tbody>\n",
              "    <tr>\n",
              "      <th>0</th>\n",
              "      <td>6</td>\n",
              "      <td>148</td>\n",
              "      <td>72</td>\n",
              "      <td>35</td>\n",
              "      <td>0</td>\n",
              "      <td>33.6</td>\n",
              "      <td>0.627</td>\n",
              "      <td>50</td>\n",
              "      <td>1</td>\n",
              "    </tr>\n",
              "    <tr>\n",
              "      <th>1</th>\n",
              "      <td>1</td>\n",
              "      <td>85</td>\n",
              "      <td>66</td>\n",
              "      <td>29</td>\n",
              "      <td>0</td>\n",
              "      <td>26.6</td>\n",
              "      <td>0.351</td>\n",
              "      <td>31</td>\n",
              "      <td>0</td>\n",
              "    </tr>\n",
              "    <tr>\n",
              "      <th>2</th>\n",
              "      <td>8</td>\n",
              "      <td>183</td>\n",
              "      <td>64</td>\n",
              "      <td>0</td>\n",
              "      <td>0</td>\n",
              "      <td>23.3</td>\n",
              "      <td>0.672</td>\n",
              "      <td>32</td>\n",
              "      <td>1</td>\n",
              "    </tr>\n",
              "    <tr>\n",
              "      <th>3</th>\n",
              "      <td>1</td>\n",
              "      <td>89</td>\n",
              "      <td>66</td>\n",
              "      <td>23</td>\n",
              "      <td>94</td>\n",
              "      <td>28.1</td>\n",
              "      <td>0.167</td>\n",
              "      <td>21</td>\n",
              "      <td>0</td>\n",
              "    </tr>\n",
              "    <tr>\n",
              "      <th>4</th>\n",
              "      <td>0</td>\n",
              "      <td>137</td>\n",
              "      <td>40</td>\n",
              "      <td>35</td>\n",
              "      <td>168</td>\n",
              "      <td>43.1</td>\n",
              "      <td>2.288</td>\n",
              "      <td>33</td>\n",
              "      <td>1</td>\n",
              "    </tr>\n",
              "  </tbody>\n",
              "</table>\n",
              "</div>"
            ],
            "text/plain": [
              "   Pregnancies  Glucose  BloodPressure  ...  DiabetesPedigreeFunction  Age  Outcome\n",
              "0            6      148             72  ...                     0.627   50        1\n",
              "1            1       85             66  ...                     0.351   31        0\n",
              "2            8      183             64  ...                     0.672   32        1\n",
              "3            1       89             66  ...                     0.167   21        0\n",
              "4            0      137             40  ...                     2.288   33        1\n",
              "\n",
              "[5 rows x 9 columns]"
            ]
          },
          "metadata": {
            "tags": []
          },
          "execution_count": 21
        }
      ]
    },
    {
      "cell_type": "code",
      "metadata": {
        "id": "dAoSjWqn4_6-",
        "colab_type": "code",
        "colab": {}
      },
      "source": [
        "x = gg[['Pregnancies', 'Glucose', 'BloodPressure', 'SkinThickness', 'Insulin', 'BMI', 'DiabetesPedigreeFunction', 'Age']] # I want all the first 7 columns to be the features\n",
        "y = gg['Outcome']      #I need the last column as the feature"
      ],
      "execution_count": 0,
      "outputs": []
    },
    {
      "cell_type": "code",
      "metadata": {
        "id": "fOadMU8Y4Ial",
        "colab_type": "code",
        "colab": {}
      },
      "source": [
        "x_train, x_test, y_train, y_test = tts(x, y, test_size = 0.2, random_state = 2) #dividing the data into training and testing data and random_state = 2 and test_size is 0.2"
      ],
      "execution_count": 0,
      "outputs": []
    },
    {
      "cell_type": "code",
      "metadata": {
        "id": "JcB0LB7_5a5p",
        "colab_type": "code",
        "colab": {
          "base_uri": "https://localhost:8080/",
          "height": 118
        },
        "outputId": "72ef66c0-ce9d-48d5-e860-d5ced71dd781"
      },
      "source": [
        "#Since the data is full of numbers I used Regressor method\n",
        "clf = tt.DecisionTreeRegressor()  #clf stands for Classifier and tt for tree \n",
        "clf.fit(x_train, y_train)  #fit the training and testing data"
      ],
      "execution_count": 44,
      "outputs": [
        {
          "output_type": "execute_result",
          "data": {
            "text/plain": [
              "DecisionTreeRegressor(ccp_alpha=0.0, criterion='mse', max_depth=None,\n",
              "                      max_features=None, max_leaf_nodes=None,\n",
              "                      min_impurity_decrease=0.0, min_impurity_split=None,\n",
              "                      min_samples_leaf=1, min_samples_split=2,\n",
              "                      min_weight_fraction_leaf=0.0, presort='deprecated',\n",
              "                      random_state=None, splitter='best')"
            ]
          },
          "metadata": {
            "tags": []
          },
          "execution_count": 44
        }
      ]
    },
    {
      "cell_type": "code",
      "metadata": {
        "id": "1uC7_g585nzT",
        "colab_type": "code",
        "colab": {
          "base_uri": "https://localhost:8080/",
          "height": 185
        },
        "outputId": "d5efed4b-2c48-461c-adee-6e2436e47d35"
      },
      "source": [
        "clf_pred = clf.predict(x_test) \n",
        "clf_pred"
      ],
      "execution_count": 54,
      "outputs": [
        {
          "output_type": "execute_result",
          "data": {
            "text/plain": [
              "array([0., 1., 0., 1., 1., 0., 0., 0., 0., 0., 0., 0., 0., 0., 0., 1., 1.,\n",
              "       0., 1., 1., 0., 1., 0., 1., 0., 0., 1., 0., 0., 0., 1., 0., 0., 0.,\n",
              "       0., 0., 0., 0., 1., 0., 1., 0., 0., 0., 0., 0., 1., 1., 0., 1., 0.,\n",
              "       1., 1., 1., 1., 1., 1., 0., 1., 0., 1., 1., 1., 1., 0., 0., 0., 0.,\n",
              "       0., 1., 0., 0., 0., 0., 0., 0., 0., 0., 0., 0., 0., 0., 0., 1., 0.,\n",
              "       0., 0., 0., 0., 0., 0., 0., 0., 0., 0., 1., 1., 0., 0., 0., 0., 0.,\n",
              "       0., 0., 0., 0., 1., 1., 0., 0., 0., 0., 0., 0., 0., 1., 1., 0., 0.,\n",
              "       0., 1., 0., 0., 0., 1., 1., 0., 0., 1., 0., 1., 1., 0., 0., 0., 1.,\n",
              "       1., 1., 0., 1., 1., 1., 0., 1., 0., 0., 1., 0., 0., 0., 0., 0., 1.,\n",
              "       0.])"
            ]
          },
          "metadata": {
            "tags": []
          },
          "execution_count": 54
        }
      ]
    },
    {
      "cell_type": "code",
      "metadata": {
        "id": "bDKMJYrj5rJD",
        "colab_type": "code",
        "colab": {
          "base_uri": "https://localhost:8080/",
          "height": 34
        },
        "outputId": "7357c0d7-bfe1-4650-936a-7a855e9cc200"
      },
      "source": [
        "clf_r2 = r2(y_test, clf_pred)  #Took r_square error to find out the difference between them\n",
        "clf_r2"
      ],
      "execution_count": 57,
      "outputs": [
        {
          "output_type": "execute_result",
          "data": {
            "text/plain": [
              "-0.22446483180428123"
            ]
          },
          "metadata": {
            "tags": []
          },
          "execution_count": 57
        }
      ]
    },
    {
      "cell_type": "code",
      "metadata": {
        "id": "OAXS8E2a55Bv",
        "colab_type": "code",
        "colab": {
          "base_uri": "https://localhost:8080/",
          "height": 34
        },
        "outputId": "c73c604d-c220-48f3-9a5e-0b99589c01cc"
      },
      "source": [
        "clf_mse = mse(y_test, clf_pred)   #Also used Mean Squared Error to find the error\n",
        "clf_mse"
      ],
      "execution_count": 58,
      "outputs": [
        {
          "output_type": "execute_result",
          "data": {
            "text/plain": [
              "0.2532467532467532"
            ]
          },
          "metadata": {
            "tags": []
          },
          "execution_count": 58
        }
      ]
    },
    {
      "cell_type": "code",
      "metadata": {
        "id": "eszGdtPV6HTR",
        "colab_type": "code",
        "colab": {
          "base_uri": "https://localhost:8080/",
          "height": 50
        },
        "outputId": "816992b2-fd2b-43cf-a1a8-2db7f023f840"
      },
      "source": [
        "abcclf = abc(n_estimators = 100, random_state= 0)    #abcclf stands for AdaBoostRegressor  and gave the n_estimator parameter to 100\n",
        "abcclf.fit(x_train, y_train)  #Fitting training data into the classifier"
      ],
      "execution_count": 40,
      "outputs": [
        {
          "output_type": "execute_result",
          "data": {
            "text/plain": [
              "AdaBoostRegressor(base_estimator=None, learning_rate=1.0, loss='linear',\n",
              "                  n_estimators=100, random_state=0)"
            ]
          },
          "metadata": {
            "tags": []
          },
          "execution_count": 40
        }
      ]
    },
    {
      "cell_type": "code",
      "metadata": {
        "id": "zR35YaAo7tui",
        "colab_type": "code",
        "colab": {
          "base_uri": "https://localhost:8080/",
          "height": 538
        },
        "outputId": "b8530c2c-711e-47c0-ac13-d07897062c4e"
      },
      "source": [
        "abc_pred = abcclf.predict(x_test)    #predicting the results\n",
        "abc_pred"
      ],
      "execution_count": 59,
      "outputs": [
        {
          "output_type": "execute_result",
          "data": {
            "text/plain": [
              "array([0.23275862, 0.48051948, 0.36363636, 0.50625   , 0.51277014,\n",
              "       0.31948882, 0.20710059, 0.52467532, 0.2601626 , 0.51277014,\n",
              "       0.49622642, 0.51277014, 0.65789474, 0.39497717, 0.19444444,\n",
              "       0.55311355, 0.52767528, 0.05851064, 0.51277014, 0.58088235,\n",
              "       0.57323232, 0.58088235, 0.45905172, 0.48920863, 0.2195122 ,\n",
              "       0.42924528, 0.49288256, 0.51497006, 0.48051948, 0.4795539 ,\n",
              "       0.51277014, 0.51277014, 0.19827586, 0.42924528, 0.49622642,\n",
              "       0.61940299, 0.49288256, 0.50625   , 0.51277014, 0.11764706,\n",
              "       0.46666667, 0.27536232, 0.48051948, 0.45905172, 0.05851064,\n",
              "       0.12871287, 0.46666667, 0.57323232, 0.325     , 0.51497006,\n",
              "       0.60674157, 0.50442478, 0.50625   , 0.51497006, 0.52467532,\n",
              "       0.52158273, 0.58088235, 0.52551985, 0.53738318, 0.05851064,\n",
              "       0.51497006, 0.58585859, 0.57323232, 0.57246377, 0.48051948,\n",
              "       0.47368421, 0.58088235, 0.31948882, 0.46666667, 0.50625   ,\n",
              "       0.31818182, 0.27536232, 0.48920863, 0.45905172, 0.2601626 ,\n",
              "       0.51277014, 0.50442478, 0.27536232, 0.23529412, 0.4795539 ,\n",
              "       0.27536232, 0.48051948, 0.44444444, 0.42924528, 0.52467532,\n",
              "       0.48689139, 0.19444444, 0.35555556, 0.45905172, 0.45905172,\n",
              "       0.31651376, 0.42924528, 0.49622642, 0.31651376, 0.48920863,\n",
              "       0.50625   , 0.51277014, 0.52158273, 0.5035461 , 0.44318182,\n",
              "       0.50529101, 0.52551985, 0.30136986, 0.23529412, 0.46987952,\n",
              "       0.11764706, 0.58585859, 0.48051948, 0.22115385, 0.16551724,\n",
              "       0.05851064, 0.47435897, 0.48051948, 0.20710059, 0.48051948,\n",
              "       0.59424084, 0.50529101, 0.31948882, 0.06818182, 0.20710059,\n",
              "       0.48051948, 0.4795539 , 0.31948882, 0.39497717, 0.46385542,\n",
              "       0.57692308, 0.11538462, 0.49288256, 0.5035461 , 0.51277014,\n",
              "       0.52767528, 0.46987952, 0.45905172, 0.05851064, 0.48689139,\n",
              "       0.51277014, 0.48051948, 0.49288256, 0.375     , 0.58088235,\n",
              "       0.48051948, 0.52551985, 0.45      , 0.48920863, 0.48051948,\n",
              "       0.40727273, 0.44444444, 0.48689139, 0.05851064, 0.3954023 ,\n",
              "       0.31651376, 0.5106383 , 0.51048951, 0.04166667])"
            ]
          },
          "metadata": {
            "tags": []
          },
          "execution_count": 59
        }
      ]
    },
    {
      "cell_type": "code",
      "metadata": {
        "id": "uWnKzPWU75m4",
        "colab_type": "code",
        "colab": {
          "base_uri": "https://localhost:8080/",
          "height": 34
        },
        "outputId": "2c145af4-82dc-417b-b445-0cafb789c922"
      },
      "source": [
        "abc_r2 = r2(y_test, abc_pred)   #using r_square error I found the error between the test and the prediction\n",
        "abc_r2"
      ],
      "execution_count": 60,
      "outputs": [
        {
          "output_type": "execute_result",
          "data": {
            "text/plain": [
              "0.07601246518661575"
            ]
          },
          "metadata": {
            "tags": []
          },
          "execution_count": 60
        }
      ]
    },
    {
      "cell_type": "code",
      "metadata": {
        "id": "vtKYOZLW7-Ez",
        "colab_type": "code",
        "colab": {
          "base_uri": "https://localhost:8080/",
          "height": 34
        },
        "outputId": "892a40f7-f46b-4714-eda3-3fb1b2c0b8d7"
      },
      "source": [
        "abc_mse = mse(y_test, abc_pred) #using Mean Squared error I found the error between the test and the prediction\n",
        "abc_mse"
      ],
      "execution_count": 61,
      "outputs": [
        {
          "output_type": "execute_result",
          "data": {
            "text/plain": [
              "0.191101318024104"
            ]
          },
          "metadata": {
            "tags": []
          },
          "execution_count": 61
        }
      ]
    },
    {
      "cell_type": "code",
      "metadata": {
        "id": "R_vihSfV8ERG",
        "colab_type": "code",
        "colab": {
          "base_uri": "https://localhost:8080/",
          "height": 134
        },
        "outputId": "0fabd2a5-29dc-466e-8634-12c9c140309f"
      },
      "source": [
        "rfrclf = rfr(n_estimators = 100, max_depth = 10)  #rfrclf stands for RandomForestRegressor and gave the n_estimators parameter to 100\n",
        "rfrclf.fit(x_train, y_train)"
      ],
      "execution_count": 48,
      "outputs": [
        {
          "output_type": "execute_result",
          "data": {
            "text/plain": [
              "RandomForestRegressor(bootstrap=True, ccp_alpha=0.0, criterion='mse',\n",
              "                      max_depth=10, max_features='auto', max_leaf_nodes=None,\n",
              "                      max_samples=None, min_impurity_decrease=0.0,\n",
              "                      min_impurity_split=None, min_samples_leaf=1,\n",
              "                      min_samples_split=2, min_weight_fraction_leaf=0.0,\n",
              "                      n_estimators=100, n_jobs=None, oob_score=False,\n",
              "                      random_state=None, verbose=0, warm_start=False)"
            ]
          },
          "metadata": {
            "tags": []
          },
          "execution_count": 48
        }
      ]
    },
    {
      "cell_type": "code",
      "metadata": {
        "id": "E-nMDkUI9Lv4",
        "colab_type": "code",
        "colab": {
          "base_uri": "https://localhost:8080/",
          "height": 672
        },
        "outputId": "e0d41691-abfb-48eb-9adc-60d83eee334a"
      },
      "source": [
        "rfr_pred = rfrclf.predict(x_test)   #predicting the results \n",
        "rfr_pred"
      ],
      "execution_count": 63,
      "outputs": [
        {
          "output_type": "execute_result",
          "data": {
            "text/plain": [
              "array([1.65060728e-02, 3.35738149e-01, 5.68155966e-02, 4.81031207e-01,\n",
              "       5.17567997e-01, 4.87314439e-02, 5.06072783e-04, 7.80000000e-01,\n",
              "       7.76539142e-02, 4.05575049e-01, 6.87037037e-02, 6.77025397e-01,\n",
              "       7.49687500e-01, 9.25165816e-02, 0.00000000e+00, 8.84575136e-01,\n",
              "       7.01821429e-01, 0.00000000e+00, 4.59252276e-01, 9.47980769e-01,\n",
              "       8.41673804e-01, 8.04867430e-01, 4.38126724e-02, 4.87500000e-01,\n",
              "       1.00000000e-02, 7.70924629e-02, 6.67121212e-01, 3.76597801e-01,\n",
              "       3.88454003e-01, 3.43035357e-01, 5.20661875e-01, 4.38004369e-01,\n",
              "       0.00000000e+00, 1.42301184e-01, 3.30000000e-01, 9.15230769e-01,\n",
              "       4.02646994e-01, 6.89175354e-01, 4.80975098e-01, 6.00000000e-02,\n",
              "       2.63560046e-01, 1.12753036e-02, 2.56994858e-01, 8.75207841e-02,\n",
              "       0.00000000e+00, 0.00000000e+00, 2.67590830e-01, 4.69223258e-01,\n",
              "       1.96062500e-01, 3.86251526e-01, 5.30000000e-01, 3.86847664e-01,\n",
              "       6.54725161e-01, 6.97767101e-01, 6.67600674e-01, 6.47479586e-01,\n",
              "       9.55802198e-01, 5.64874918e-01, 6.11215278e-01, 1.00000000e-02,\n",
              "       3.77357419e-01, 7.02565721e-01, 7.61682090e-01, 7.59821429e-01,\n",
              "       1.03514646e-01, 3.02037037e-01, 5.94256587e-01, 1.13482926e-01,\n",
              "       8.00422778e-02, 6.08571757e-01, 1.02706384e-01, 1.61991164e-01,\n",
              "       3.80478497e-01, 9.02244989e-02, 3.54497354e-03, 6.12841336e-01,\n",
              "       4.46799528e-01, 3.19897959e-02, 1.60740741e-01, 1.56843452e-01,\n",
              "       2.76171839e-02, 3.87031528e-01, 2.98162286e-01, 1.53319437e-01,\n",
              "       6.82850275e-01, 4.63268803e-01, 7.00000000e-02, 4.93019912e-02,\n",
              "       2.85182613e-01, 3.77377778e-01, 6.86710709e-02, 1.13975299e-01,\n",
              "       2.70422348e-01, 1.25923357e-01, 2.89748614e-01, 6.26225480e-01,\n",
              "       5.76434805e-01, 3.86034964e-01, 5.47702703e-01, 9.24534616e-02,\n",
              "       4.32822003e-01, 5.94276277e-01, 7.10849673e-02, 5.57754011e-02,\n",
              "       2.02258772e-01, 7.14285714e-04, 8.08696429e-01, 3.34631802e-01,\n",
              "       3.00000000e-02, 5.65060728e-02, 9.52380952e-04, 4.43986264e-01,\n",
              "       2.32031644e-01, 1.98077919e-02, 1.11634661e-01, 8.59230769e-01,\n",
              "       6.76537141e-01, 2.30000000e-01, 1.03921569e-02, 4.12500000e-02,\n",
              "       4.22283126e-01, 7.06394565e-02, 4.31705465e-02, 9.17718882e-02,\n",
              "       5.69748236e-01, 8.43857543e-01, 0.00000000e+00, 5.87199207e-01,\n",
              "       4.21799158e-01, 3.97975589e-01, 7.05004689e-01, 2.58172447e-01,\n",
              "       4.91058210e-01, 0.00000000e+00, 3.59147603e-01, 7.14887218e-01,\n",
              "       5.09941724e-01, 5.17433498e-01, 1.32537037e-01, 8.21297459e-01,\n",
              "       2.75373336e-01, 7.04758454e-01, 2.65916916e-01, 3.70823913e-01,\n",
              "       1.01724380e-01, 7.74194642e-02, 2.87330861e-01, 2.22946013e-01,\n",
              "       0.00000000e+00, 4.51390839e-02, 1.94258883e-02, 5.27609543e-01,\n",
              "       6.40558463e-01, 1.00000000e-02])"
            ]
          },
          "metadata": {
            "tags": []
          },
          "execution_count": 63
        }
      ]
    },
    {
      "cell_type": "code",
      "metadata": {
        "id": "X9BvT-G-9P_a",
        "colab_type": "code",
        "colab": {
          "base_uri": "https://localhost:8080/",
          "height": 34
        },
        "outputId": "fe54ab45-dac1-4555-c5bf-90bee69d8de4"
      },
      "source": [
        "rfr_r2 = r2(y_test, rfr_pred) #r2 error for finding out the error\n",
        "rfr_r2"
      ],
      "execution_count": 69,
      "outputs": [
        {
          "output_type": "execute_result",
          "data": {
            "text/plain": [
              "0.20998722258785563"
            ]
          },
          "metadata": {
            "tags": []
          },
          "execution_count": 69
        }
      ]
    },
    {
      "cell_type": "code",
      "metadata": {
        "id": "hctZJqQd9U0g",
        "colab_type": "code",
        "colab": {
          "base_uri": "https://localhost:8080/",
          "height": 34
        },
        "outputId": "44822b6a-a295-4774-80a8-b76f21601e2f"
      },
      "source": [
        "rfr_mse = mse(y_test, rfr_pred)   #Mean Squared Error for Error finding\n",
        "rfr_mse"
      ],
      "execution_count": 66,
      "outputs": [
        {
          "output_type": "execute_result",
          "data": {
            "text/plain": [
              "0.16339233737588837"
            ]
          },
          "metadata": {
            "tags": []
          },
          "execution_count": 66
        }
      ]
    },
    {
      "cell_type": "code",
      "metadata": {
        "id": "m1cJnGVy9X80",
        "colab_type": "code",
        "colab": {
          "base_uri": "https://localhost:8080/",
          "height": 101
        },
        "outputId": "89ad54da-f2ce-46b3-ef7b-89013cfb4124"
      },
      "source": [
        "ans = pp.Series([['Method', 'r2 error', 'mse'], ['Decision Tree',round(clf_r2, 6), round(clf_mse, 6)], ['AdaBoost', round(abc_r2, 6), round(abc_mse, 6)], ['RandomForest', round(rfr_r2, 6), round(rfr_mse, 6)]])\n",
        "ans   #Creating a pandas DataFrame to show the erros in one view"
      ],
      "execution_count": 74,
      "outputs": [
        {
          "output_type": "execute_result",
          "data": {
            "text/plain": [
              "0                 [Method, r2 error, mse]\n",
              "1    [Decision Tree, -0.224465, 0.253247]\n",
              "2          [AdaBoost, 0.076012, 0.191101]\n",
              "3      [RandomForest, 0.209987, 0.163392]\n",
              "dtype: object"
            ]
          },
          "metadata": {
            "tags": []
          },
          "execution_count": 74
        }
      ]
    },
    {
      "cell_type": "markdown",
      "metadata": {
        "id": "L6Bf9JAdFf1A",
        "colab_type": "text"
      },
      "source": [
        "From the above errors of different Methods I conclude that **AdaBoostRegressor**  is the best way among the other 2 models"
      ]
    }
  ]
}